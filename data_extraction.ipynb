{
 "cells": [
  {
   "cell_type": "markdown",
   "metadata": {},
   "source": [
    "# Extract player info"
   ]
  },
  {
   "cell_type": "code",
   "execution_count": 28,
   "metadata": {},
   "outputs": [],
   "source": [
    "from bs4 import BeautifulSoup\n",
    "import urllib.request as url\n",
    "import re\n",
    "\n",
    "def find_player_id():\n",
    "    players = {}\n",
    "    player_pages = [\"http://www.espn.com/nba/statistics/player/_/stat/scoring-per-game/sort/avgPoints/qualified/false\", \"http://www.espn.com/nba/statistics/player/_/stat/scoring-per-game/sort/avgPoints/qualified/false/count/41\", \"http://www.espn.com/nba/statistics/player/_/stat/scoring-per-game/sort/avgPoints/qualified/false/count/81\", \"http://www.espn.com/nba/statistics/player/_/stat/scoring-per-game/sort/avgPoints/qualified/false/count/121\", \"http://www.espn.com/nba/statistics/player/_/stat/scoring-per-game/sort/avgPoints/qualified/false/count/121\", \"http://www.espn.com/nba/statistics/player/_/stat/scoring-per-game/sort/avgPoints/qualified/false/count/161\",\"http://www.espn.com/nba/statistics/player/_/stat/scoring-per-game/sort/avgPoints/qualified/false/count/201\",\"http://www.espn.com/nba/statistics/player/_/stat/scoring-per-game/sort/avgPoints/qualified/false/count/241\",\"http://www.espn.com/nba/statistics/player/_/stat/scoring-per-game/sort/avgPoints/qualified/false/count/281\",\"http://www.espn.com/nba/statistics/player/_/stat/scoring-per-game/sort/avgPoints/qualified/false/count/321\",\"http://www.espn.com/nba/statistics/player/_/stat/scoring-per-game/sort/avgPoints/qualified/false/count/361\",\"http://www.espn.com/nba/statistics/player/_/stat/scoring-per-game/sort/avgPoints/qualified/false/count/401\",\"http://www.espn.com/nba/statistics/player/_/stat/scoring-per-game/sort/avgPoints/qualified/false/count/441\"]\n",
    "    for page in player_pages:\n",
    "        html_page = url.urlopen(page)\n",
    "        soup = BeautifulSoup(html_page)\n",
    "        for link in soup.findAll('a', attrs={'href': re.compile(\"^http://www.espn.com/nba/player/_/id\")}):\n",
    "            players_id = link.get('href').split('/')\n",
    "            players[players_id[len(players_id)-1]] = players_id[len(players_id)-2]\n",
    "    return players;    "
   ]
  },
  {
   "cell_type": "code",
   "execution_count": 29,
   "metadata": {},
   "outputs": [],
   "source": [
    "import pandas\n",
    "def read_players(player_id, years):\n",
    "    player_info = {}\n",
    "    for player in player_id:\n",
    "        player_years = {}\n",
    "        for year in years:\n",
    "            url_path = \"http://www.espn.com/nba/player/gamelog/_/id/\" + player_id[player] + \"/year/\" + str(year) + \"/\" + player\n",
    "            try:\n",
    "                dataframe = pandas.read_html(url_path)\n",
    "                player_years[year] = dataframe\n",
    "            except url.HTTPError:\n",
    "                pass\n",
    "            print(url_path)\n",
    "        player_info[player] = player_years\n",
    "    return player_info"
   ]
  },
  {
   "cell_type": "code",
   "execution_count": 30,
   "metadata": {},
   "outputs": [
    {
     "ename": "KeyboardInterrupt",
     "evalue": "",
     "output_type": "error",
     "traceback": [
      "\u001b[0;31m---------------------------------------------------------------------------\u001b[0m",
      "\u001b[0;31mKeyboardInterrupt\u001b[0m                         Traceback (most recent call last)",
      "\u001b[0;32m<ipython-input-30-893b610dcb52>\u001b[0m in \u001b[0;36m<module>\u001b[0;34m\u001b[0m\n\u001b[0;32m----> 1\u001b[0;31m \u001b[0mplayer_id\u001b[0m \u001b[0;34m=\u001b[0m \u001b[0mfind_player_id\u001b[0m\u001b[0;34m(\u001b[0m\u001b[0;34m)\u001b[0m\u001b[0;34m\u001b[0m\u001b[0m\n\u001b[0m\u001b[1;32m      2\u001b[0m \u001b[0mtest\u001b[0m \u001b[0;34m=\u001b[0m \u001b[0mread_players\u001b[0m\u001b[0;34m(\u001b[0m\u001b[0mplayer_id\u001b[0m\u001b[0;34m,\u001b[0m\u001b[0;34m[\u001b[0m\u001b[0;36m2018\u001b[0m\u001b[0;34m]\u001b[0m\u001b[0;34m)\u001b[0m\u001b[0;34m\u001b[0m\u001b[0m\n",
      "\u001b[0;32m<ipython-input-28-82ce6881d626>\u001b[0m in \u001b[0;36mfind_player_id\u001b[0;34m()\u001b[0m\n\u001b[1;32m      7\u001b[0m     \u001b[0mplayer_pages\u001b[0m \u001b[0;34m=\u001b[0m \u001b[0;34m[\u001b[0m\u001b[0;34m\"http://www.espn.com/nba/statistics/player/_/stat/scoring-per-game/sort/avgPoints/qualified/false\"\u001b[0m\u001b[0;34m,\u001b[0m \u001b[0;34m\"http://www.espn.com/nba/statistics/player/_/stat/scoring-per-game/sort/avgPoints/qualified/false/count/41\"\u001b[0m\u001b[0;34m,\u001b[0m \u001b[0;34m\"http://www.espn.com/nba/statistics/player/_/stat/scoring-per-game/sort/avgPoints/qualified/false/count/81\"\u001b[0m\u001b[0;34m,\u001b[0m \u001b[0;34m\"http://www.espn.com/nba/statistics/player/_/stat/scoring-per-game/sort/avgPoints/qualified/false/count/121\"\u001b[0m\u001b[0;34m,\u001b[0m \u001b[0;34m\"http://www.espn.com/nba/statistics/player/_/stat/scoring-per-game/sort/avgPoints/qualified/false/count/121\"\u001b[0m\u001b[0;34m,\u001b[0m \u001b[0;34m\"http://www.espn.com/nba/statistics/player/_/stat/scoring-per-game/sort/avgPoints/qualified/false/count/161\"\u001b[0m\u001b[0;34m,\u001b[0m\u001b[0;34m\"http://www.espn.com/nba/statistics/player/_/stat/scoring-per-game/sort/avgPoints/qualified/false/count/201\"\u001b[0m\u001b[0;34m,\u001b[0m\u001b[0;34m\"http://www.espn.com/nba/statistics/player/_/stat/scoring-per-game/sort/avgPoints/qualified/false/count/241\"\u001b[0m\u001b[0;34m,\u001b[0m\u001b[0;34m\"http://www.espn.com/nba/statistics/player/_/stat/scoring-per-game/sort/avgPoints/qualified/false/count/281\"\u001b[0m\u001b[0;34m,\u001b[0m\u001b[0;34m\"http://www.espn.com/nba/statistics/player/_/stat/scoring-per-game/sort/avgPoints/qualified/false/count/321\"\u001b[0m\u001b[0;34m,\u001b[0m\u001b[0;34m\"http://www.espn.com/nba/statistics/player/_/stat/scoring-per-game/sort/avgPoints/qualified/false/count/361\"\u001b[0m\u001b[0;34m,\u001b[0m\u001b[0;34m\"http://www.espn.com/nba/statistics/player/_/stat/scoring-per-game/sort/avgPoints/qualified/false/count/401\"\u001b[0m\u001b[0;34m,\u001b[0m\u001b[0;34m\"http://www.espn.com/nba/statistics/player/_/stat/scoring-per-game/sort/avgPoints/qualified/false/count/441\"\u001b[0m\u001b[0;34m]\u001b[0m\u001b[0;34m\u001b[0m\u001b[0m\n\u001b[1;32m      8\u001b[0m     \u001b[0;32mfor\u001b[0m \u001b[0mpage\u001b[0m \u001b[0;32min\u001b[0m \u001b[0mplayer_pages\u001b[0m\u001b[0;34m:\u001b[0m\u001b[0;34m\u001b[0m\u001b[0m\n\u001b[0;32m----> 9\u001b[0;31m         \u001b[0mhtml_page\u001b[0m \u001b[0;34m=\u001b[0m \u001b[0murl\u001b[0m\u001b[0;34m.\u001b[0m\u001b[0murlopen\u001b[0m\u001b[0;34m(\u001b[0m\u001b[0mpage\u001b[0m\u001b[0;34m)\u001b[0m\u001b[0;34m\u001b[0m\u001b[0m\n\u001b[0m\u001b[1;32m     10\u001b[0m         \u001b[0msoup\u001b[0m \u001b[0;34m=\u001b[0m \u001b[0mBeautifulSoup\u001b[0m\u001b[0;34m(\u001b[0m\u001b[0mhtml_page\u001b[0m\u001b[0;34m)\u001b[0m\u001b[0;34m\u001b[0m\u001b[0m\n\u001b[1;32m     11\u001b[0m         \u001b[0;32mfor\u001b[0m \u001b[0mlink\u001b[0m \u001b[0;32min\u001b[0m \u001b[0msoup\u001b[0m\u001b[0;34m.\u001b[0m\u001b[0mfindAll\u001b[0m\u001b[0;34m(\u001b[0m\u001b[0;34m'a'\u001b[0m\u001b[0;34m,\u001b[0m \u001b[0mattrs\u001b[0m\u001b[0;34m=\u001b[0m\u001b[0;34m{\u001b[0m\u001b[0;34m'href'\u001b[0m\u001b[0;34m:\u001b[0m \u001b[0mre\u001b[0m\u001b[0;34m.\u001b[0m\u001b[0mcompile\u001b[0m\u001b[0;34m(\u001b[0m\u001b[0;34m\"^http://www.espn.com/nba/player/_/id\"\u001b[0m\u001b[0;34m)\u001b[0m\u001b[0;34m}\u001b[0m\u001b[0;34m)\u001b[0m\u001b[0;34m:\u001b[0m\u001b[0;34m\u001b[0m\u001b[0m\n",
      "\u001b[0;32m~/anaconda3/lib/python3.6/urllib/request.py\u001b[0m in \u001b[0;36murlopen\u001b[0;34m(url, data, timeout, cafile, capath, cadefault, context)\u001b[0m\n\u001b[1;32m    221\u001b[0m     \u001b[0;32melse\u001b[0m\u001b[0;34m:\u001b[0m\u001b[0;34m\u001b[0m\u001b[0m\n\u001b[1;32m    222\u001b[0m         \u001b[0mopener\u001b[0m \u001b[0;34m=\u001b[0m \u001b[0m_opener\u001b[0m\u001b[0;34m\u001b[0m\u001b[0m\n\u001b[0;32m--> 223\u001b[0;31m     \u001b[0;32mreturn\u001b[0m \u001b[0mopener\u001b[0m\u001b[0;34m.\u001b[0m\u001b[0mopen\u001b[0m\u001b[0;34m(\u001b[0m\u001b[0murl\u001b[0m\u001b[0;34m,\u001b[0m \u001b[0mdata\u001b[0m\u001b[0;34m,\u001b[0m \u001b[0mtimeout\u001b[0m\u001b[0;34m)\u001b[0m\u001b[0;34m\u001b[0m\u001b[0m\n\u001b[0m\u001b[1;32m    224\u001b[0m \u001b[0;34m\u001b[0m\u001b[0m\n\u001b[1;32m    225\u001b[0m \u001b[0;32mdef\u001b[0m \u001b[0minstall_opener\u001b[0m\u001b[0;34m(\u001b[0m\u001b[0mopener\u001b[0m\u001b[0;34m)\u001b[0m\u001b[0;34m:\u001b[0m\u001b[0;34m\u001b[0m\u001b[0m\n",
      "\u001b[0;32m~/anaconda3/lib/python3.6/urllib/request.py\u001b[0m in \u001b[0;36mopen\u001b[0;34m(self, fullurl, data, timeout)\u001b[0m\n\u001b[1;32m    524\u001b[0m             \u001b[0mreq\u001b[0m \u001b[0;34m=\u001b[0m \u001b[0mmeth\u001b[0m\u001b[0;34m(\u001b[0m\u001b[0mreq\u001b[0m\u001b[0;34m)\u001b[0m\u001b[0;34m\u001b[0m\u001b[0m\n\u001b[1;32m    525\u001b[0m \u001b[0;34m\u001b[0m\u001b[0m\n\u001b[0;32m--> 526\u001b[0;31m         \u001b[0mresponse\u001b[0m \u001b[0;34m=\u001b[0m \u001b[0mself\u001b[0m\u001b[0;34m.\u001b[0m\u001b[0m_open\u001b[0m\u001b[0;34m(\u001b[0m\u001b[0mreq\u001b[0m\u001b[0;34m,\u001b[0m \u001b[0mdata\u001b[0m\u001b[0;34m)\u001b[0m\u001b[0;34m\u001b[0m\u001b[0m\n\u001b[0m\u001b[1;32m    527\u001b[0m \u001b[0;34m\u001b[0m\u001b[0m\n\u001b[1;32m    528\u001b[0m         \u001b[0;31m# post-process response\u001b[0m\u001b[0;34m\u001b[0m\u001b[0;34m\u001b[0m\u001b[0m\n",
      "\u001b[0;32m~/anaconda3/lib/python3.6/urllib/request.py\u001b[0m in \u001b[0;36m_open\u001b[0;34m(self, req, data)\u001b[0m\n\u001b[1;32m    542\u001b[0m         \u001b[0mprotocol\u001b[0m \u001b[0;34m=\u001b[0m \u001b[0mreq\u001b[0m\u001b[0;34m.\u001b[0m\u001b[0mtype\u001b[0m\u001b[0;34m\u001b[0m\u001b[0m\n\u001b[1;32m    543\u001b[0m         result = self._call_chain(self.handle_open, protocol, protocol +\n\u001b[0;32m--> 544\u001b[0;31m                                   '_open', req)\n\u001b[0m\u001b[1;32m    545\u001b[0m         \u001b[0;32mif\u001b[0m \u001b[0mresult\u001b[0m\u001b[0;34m:\u001b[0m\u001b[0;34m\u001b[0m\u001b[0m\n\u001b[1;32m    546\u001b[0m             \u001b[0;32mreturn\u001b[0m \u001b[0mresult\u001b[0m\u001b[0;34m\u001b[0m\u001b[0m\n",
      "\u001b[0;32m~/anaconda3/lib/python3.6/urllib/request.py\u001b[0m in \u001b[0;36m_call_chain\u001b[0;34m(self, chain, kind, meth_name, *args)\u001b[0m\n\u001b[1;32m    502\u001b[0m         \u001b[0;32mfor\u001b[0m \u001b[0mhandler\u001b[0m \u001b[0;32min\u001b[0m \u001b[0mhandlers\u001b[0m\u001b[0;34m:\u001b[0m\u001b[0;34m\u001b[0m\u001b[0m\n\u001b[1;32m    503\u001b[0m             \u001b[0mfunc\u001b[0m \u001b[0;34m=\u001b[0m \u001b[0mgetattr\u001b[0m\u001b[0;34m(\u001b[0m\u001b[0mhandler\u001b[0m\u001b[0;34m,\u001b[0m \u001b[0mmeth_name\u001b[0m\u001b[0;34m)\u001b[0m\u001b[0;34m\u001b[0m\u001b[0m\n\u001b[0;32m--> 504\u001b[0;31m             \u001b[0mresult\u001b[0m \u001b[0;34m=\u001b[0m \u001b[0mfunc\u001b[0m\u001b[0;34m(\u001b[0m\u001b[0;34m*\u001b[0m\u001b[0margs\u001b[0m\u001b[0;34m)\u001b[0m\u001b[0;34m\u001b[0m\u001b[0m\n\u001b[0m\u001b[1;32m    505\u001b[0m             \u001b[0;32mif\u001b[0m \u001b[0mresult\u001b[0m \u001b[0;32mis\u001b[0m \u001b[0;32mnot\u001b[0m \u001b[0;32mNone\u001b[0m\u001b[0;34m:\u001b[0m\u001b[0;34m\u001b[0m\u001b[0m\n\u001b[1;32m    506\u001b[0m                 \u001b[0;32mreturn\u001b[0m \u001b[0mresult\u001b[0m\u001b[0;34m\u001b[0m\u001b[0m\n",
      "\u001b[0;32m~/anaconda3/lib/python3.6/urllib/request.py\u001b[0m in \u001b[0;36mhttp_open\u001b[0;34m(self, req)\u001b[0m\n\u001b[1;32m   1344\u001b[0m \u001b[0;34m\u001b[0m\u001b[0m\n\u001b[1;32m   1345\u001b[0m     \u001b[0;32mdef\u001b[0m \u001b[0mhttp_open\u001b[0m\u001b[0;34m(\u001b[0m\u001b[0mself\u001b[0m\u001b[0;34m,\u001b[0m \u001b[0mreq\u001b[0m\u001b[0;34m)\u001b[0m\u001b[0;34m:\u001b[0m\u001b[0;34m\u001b[0m\u001b[0m\n\u001b[0;32m-> 1346\u001b[0;31m         \u001b[0;32mreturn\u001b[0m \u001b[0mself\u001b[0m\u001b[0;34m.\u001b[0m\u001b[0mdo_open\u001b[0m\u001b[0;34m(\u001b[0m\u001b[0mhttp\u001b[0m\u001b[0;34m.\u001b[0m\u001b[0mclient\u001b[0m\u001b[0;34m.\u001b[0m\u001b[0mHTTPConnection\u001b[0m\u001b[0;34m,\u001b[0m \u001b[0mreq\u001b[0m\u001b[0;34m)\u001b[0m\u001b[0;34m\u001b[0m\u001b[0m\n\u001b[0m\u001b[1;32m   1347\u001b[0m \u001b[0;34m\u001b[0m\u001b[0m\n\u001b[1;32m   1348\u001b[0m     \u001b[0mhttp_request\u001b[0m \u001b[0;34m=\u001b[0m \u001b[0mAbstractHTTPHandler\u001b[0m\u001b[0;34m.\u001b[0m\u001b[0mdo_request_\u001b[0m\u001b[0;34m\u001b[0m\u001b[0m\n",
      "\u001b[0;32m~/anaconda3/lib/python3.6/urllib/request.py\u001b[0m in \u001b[0;36mdo_open\u001b[0;34m(self, http_class, req, **http_conn_args)\u001b[0m\n\u001b[1;32m   1319\u001b[0m             \u001b[0;32mexcept\u001b[0m \u001b[0mOSError\u001b[0m \u001b[0;32mas\u001b[0m \u001b[0merr\u001b[0m\u001b[0;34m:\u001b[0m \u001b[0;31m# timeout error\u001b[0m\u001b[0;34m\u001b[0m\u001b[0m\n\u001b[1;32m   1320\u001b[0m                 \u001b[0;32mraise\u001b[0m \u001b[0mURLError\u001b[0m\u001b[0;34m(\u001b[0m\u001b[0merr\u001b[0m\u001b[0;34m)\u001b[0m\u001b[0;34m\u001b[0m\u001b[0m\n\u001b[0;32m-> 1321\u001b[0;31m             \u001b[0mr\u001b[0m \u001b[0;34m=\u001b[0m \u001b[0mh\u001b[0m\u001b[0;34m.\u001b[0m\u001b[0mgetresponse\u001b[0m\u001b[0;34m(\u001b[0m\u001b[0;34m)\u001b[0m\u001b[0;34m\u001b[0m\u001b[0m\n\u001b[0m\u001b[1;32m   1322\u001b[0m         \u001b[0;32mexcept\u001b[0m\u001b[0;34m:\u001b[0m\u001b[0;34m\u001b[0m\u001b[0m\n\u001b[1;32m   1323\u001b[0m             \u001b[0mh\u001b[0m\u001b[0;34m.\u001b[0m\u001b[0mclose\u001b[0m\u001b[0;34m(\u001b[0m\u001b[0;34m)\u001b[0m\u001b[0;34m\u001b[0m\u001b[0m\n",
      "\u001b[0;32m~/anaconda3/lib/python3.6/http/client.py\u001b[0m in \u001b[0;36mgetresponse\u001b[0;34m(self)\u001b[0m\n\u001b[1;32m   1329\u001b[0m         \u001b[0;32mtry\u001b[0m\u001b[0;34m:\u001b[0m\u001b[0;34m\u001b[0m\u001b[0m\n\u001b[1;32m   1330\u001b[0m             \u001b[0;32mtry\u001b[0m\u001b[0;34m:\u001b[0m\u001b[0;34m\u001b[0m\u001b[0m\n\u001b[0;32m-> 1331\u001b[0;31m                 \u001b[0mresponse\u001b[0m\u001b[0;34m.\u001b[0m\u001b[0mbegin\u001b[0m\u001b[0;34m(\u001b[0m\u001b[0;34m)\u001b[0m\u001b[0;34m\u001b[0m\u001b[0m\n\u001b[0m\u001b[1;32m   1332\u001b[0m             \u001b[0;32mexcept\u001b[0m \u001b[0mConnectionError\u001b[0m\u001b[0;34m:\u001b[0m\u001b[0;34m\u001b[0m\u001b[0m\n\u001b[1;32m   1333\u001b[0m                 \u001b[0mself\u001b[0m\u001b[0;34m.\u001b[0m\u001b[0mclose\u001b[0m\u001b[0;34m(\u001b[0m\u001b[0;34m)\u001b[0m\u001b[0;34m\u001b[0m\u001b[0m\n",
      "\u001b[0;32m~/anaconda3/lib/python3.6/http/client.py\u001b[0m in \u001b[0;36mbegin\u001b[0;34m(self)\u001b[0m\n\u001b[1;32m    295\u001b[0m         \u001b[0;31m# read until we get a non-100 response\u001b[0m\u001b[0;34m\u001b[0m\u001b[0;34m\u001b[0m\u001b[0m\n\u001b[1;32m    296\u001b[0m         \u001b[0;32mwhile\u001b[0m \u001b[0;32mTrue\u001b[0m\u001b[0;34m:\u001b[0m\u001b[0;34m\u001b[0m\u001b[0m\n\u001b[0;32m--> 297\u001b[0;31m             \u001b[0mversion\u001b[0m\u001b[0;34m,\u001b[0m \u001b[0mstatus\u001b[0m\u001b[0;34m,\u001b[0m \u001b[0mreason\u001b[0m \u001b[0;34m=\u001b[0m \u001b[0mself\u001b[0m\u001b[0;34m.\u001b[0m\u001b[0m_read_status\u001b[0m\u001b[0;34m(\u001b[0m\u001b[0;34m)\u001b[0m\u001b[0;34m\u001b[0m\u001b[0m\n\u001b[0m\u001b[1;32m    298\u001b[0m             \u001b[0;32mif\u001b[0m \u001b[0mstatus\u001b[0m \u001b[0;34m!=\u001b[0m \u001b[0mCONTINUE\u001b[0m\u001b[0;34m:\u001b[0m\u001b[0;34m\u001b[0m\u001b[0m\n\u001b[1;32m    299\u001b[0m                 \u001b[0;32mbreak\u001b[0m\u001b[0;34m\u001b[0m\u001b[0m\n",
      "\u001b[0;32m~/anaconda3/lib/python3.6/http/client.py\u001b[0m in \u001b[0;36m_read_status\u001b[0;34m(self)\u001b[0m\n\u001b[1;32m    256\u001b[0m \u001b[0;34m\u001b[0m\u001b[0m\n\u001b[1;32m    257\u001b[0m     \u001b[0;32mdef\u001b[0m \u001b[0m_read_status\u001b[0m\u001b[0;34m(\u001b[0m\u001b[0mself\u001b[0m\u001b[0;34m)\u001b[0m\u001b[0;34m:\u001b[0m\u001b[0;34m\u001b[0m\u001b[0m\n\u001b[0;32m--> 258\u001b[0;31m         \u001b[0mline\u001b[0m \u001b[0;34m=\u001b[0m \u001b[0mstr\u001b[0m\u001b[0;34m(\u001b[0m\u001b[0mself\u001b[0m\u001b[0;34m.\u001b[0m\u001b[0mfp\u001b[0m\u001b[0;34m.\u001b[0m\u001b[0mreadline\u001b[0m\u001b[0;34m(\u001b[0m\u001b[0m_MAXLINE\u001b[0m \u001b[0;34m+\u001b[0m \u001b[0;36m1\u001b[0m\u001b[0;34m)\u001b[0m\u001b[0;34m,\u001b[0m \u001b[0;34m\"iso-8859-1\"\u001b[0m\u001b[0;34m)\u001b[0m\u001b[0;34m\u001b[0m\u001b[0m\n\u001b[0m\u001b[1;32m    259\u001b[0m         \u001b[0;32mif\u001b[0m \u001b[0mlen\u001b[0m\u001b[0;34m(\u001b[0m\u001b[0mline\u001b[0m\u001b[0;34m)\u001b[0m \u001b[0;34m>\u001b[0m \u001b[0m_MAXLINE\u001b[0m\u001b[0;34m:\u001b[0m\u001b[0;34m\u001b[0m\u001b[0m\n\u001b[1;32m    260\u001b[0m             \u001b[0;32mraise\u001b[0m \u001b[0mLineTooLong\u001b[0m\u001b[0;34m(\u001b[0m\u001b[0;34m\"status line\"\u001b[0m\u001b[0;34m)\u001b[0m\u001b[0;34m\u001b[0m\u001b[0m\n",
      "\u001b[0;32m~/anaconda3/lib/python3.6/socket.py\u001b[0m in \u001b[0;36mreadinto\u001b[0;34m(self, b)\u001b[0m\n\u001b[1;32m    584\u001b[0m         \u001b[0;32mwhile\u001b[0m \u001b[0;32mTrue\u001b[0m\u001b[0;34m:\u001b[0m\u001b[0;34m\u001b[0m\u001b[0m\n\u001b[1;32m    585\u001b[0m             \u001b[0;32mtry\u001b[0m\u001b[0;34m:\u001b[0m\u001b[0;34m\u001b[0m\u001b[0m\n\u001b[0;32m--> 586\u001b[0;31m                 \u001b[0;32mreturn\u001b[0m \u001b[0mself\u001b[0m\u001b[0;34m.\u001b[0m\u001b[0m_sock\u001b[0m\u001b[0;34m.\u001b[0m\u001b[0mrecv_into\u001b[0m\u001b[0;34m(\u001b[0m\u001b[0mb\u001b[0m\u001b[0;34m)\u001b[0m\u001b[0;34m\u001b[0m\u001b[0m\n\u001b[0m\u001b[1;32m    587\u001b[0m             \u001b[0;32mexcept\u001b[0m \u001b[0mtimeout\u001b[0m\u001b[0;34m:\u001b[0m\u001b[0;34m\u001b[0m\u001b[0m\n\u001b[1;32m    588\u001b[0m                 \u001b[0mself\u001b[0m\u001b[0;34m.\u001b[0m\u001b[0m_timeout_occurred\u001b[0m \u001b[0;34m=\u001b[0m \u001b[0;32mTrue\u001b[0m\u001b[0;34m\u001b[0m\u001b[0m\n",
      "\u001b[0;31mKeyboardInterrupt\u001b[0m: "
     ]
    }
   ],
   "source": [
    "player_id = find_player_id()\n",
    "test = read_players(player_id,[2018])"
   ]
  },
  {
   "cell_type": "code",
   "execution_count": null,
   "metadata": {},
   "outputs": [],
   "source": [
    "train = read_players(player_id, [2013,2014,2015,2016,2017])"
   ]
  },
  {
   "cell_type": "code",
   "execution_count": null,
   "metadata": {},
   "outputs": [],
   "source": [
    "table = train['jarell-martin'][2017]\n",
    "print(table[1])"
   ]
  },
  {
   "cell_type": "markdown",
   "metadata": {},
   "source": [
    "# Extract team info"
   ]
  },
  {
   "cell_type": "code",
   "execution_count": 31,
   "metadata": {},
   "outputs": [],
   "source": [
    "def find_teams_url(team_url):\n",
    "    html_page = url.urlopen(team_url)\n",
    "    soup = BeautifulSoup(html_page)\n",
    "    team_url = []\n",
    "    for link in soup.findAll('a', attrs={'href': re.compile(\"^http://www.espn.com/nba/team/_/name/\")}):\n",
    "        team_url.append(link.get('href'))\n",
    "    return set(team_url)\n",
    "\n",
    "\n",
    "def read_teams(team_url, years):\n",
    "    team_stat = {}\n",
    "    for url_path in team_url:\n",
    "        url_component = url_path.split('/_/')\n",
    "        stat_url = url_component[0] + '/schedule/_/' + 'name/' + url_component[1].split('/')[1] + '/season/'\n",
    "        year_stat = {}\n",
    "        for year in years:\n",
    "            try:\n",
    "                dataframe = pandas.read_html(stat_url + str(year) + '/seasontype/2')\n",
    "                year_stat[year] = dataframe\n",
    "            except url.HTTPError:\n",
    "                pass\n",
    "            print(stat_url + str(year) + '/seasontype/2')\n",
    "        frames = []\n",
    "        for year in years:\n",
    "            df_changed = year_stat[year][2].loc[2:, 0:2]\n",
    "            before_half = df_changed[0].str.split(\" \",expand=True)[1].isin([\"Jan\",\"Feb\",\"Mar\",\"Apr\",\"May\",\"Jun\",\"Jul\"])\n",
    "            df_changed[0][before_half] = df_changed[0][before_half]+', '+str(year)\n",
    "            df_changed[0][~before_half] = df_changed[0][~before_half]+', '+str(year-1)\n",
    "            df_changed[3] = str(year - 1) + \"-\" + str(year)\n",
    "            frames.append(df_changed)\n",
    "        result = pandas.concat(frames)\n",
    "        result.index = range(len(result))\n",
    "        \n",
    "        team_name_component = url_component[1][5:].split('/')[1].split('-')[:-1]\n",
    "        team_name = ' '.join(team_name_component)\n",
    "        \n",
    "        team_stat[team_name] = result\n",
    "    return team_stat\n",
    "\n",
    "def read_teams_total(team_url, years):\n",
    "    team_total = {}\n",
    "    for url_path in team_url:\n",
    "        url_component = url_path.split('/_/')\n",
    "        stat_url = url_component[0] + '/stats/_/' + 'name/' + url_component[1].split('/')[1] + '/year/'\n",
    "        year_total = {}\n",
    "        for year in years:\n",
    "            try:\n",
    "                dataframe = pandas.read_html(stat_url + str(year))\n",
    "                dataframe = pandas.concat([dataframe[0][len(dataframe[0])-1:],dataframe[1][len(dataframe[1])-1:]])\n",
    "                dataframe.index = range(len(dataframe))\n",
    "                year_total[year] = dataframe\n",
    "            except url.HTTPError:\n",
    "                pass\n",
    "            print(stat_url + str(year))\n",
    "        team_total[url_component[1][5:]] = year_total\n",
    "    return team_total"
   ]
  },
  {
   "cell_type": "code",
   "execution_count": 32,
   "metadata": {
    "scrolled": true
   },
   "outputs": [
    {
     "name": "stdout",
     "output_type": "stream",
     "text": [
      "http://www.espn.com/nba/team/schedule/_/name/gs/season/2018/seasontype/2\n",
      "http://www.espn.com/nba/team/schedule/_/name/orl/season/2018/seasontype/2\n",
      "http://www.espn.com/nba/team/schedule/_/name/chi/season/2018/seasontype/2\n",
      "http://www.espn.com/nba/team/schedule/_/name/utah/season/2018/seasontype/2\n",
      "http://www.espn.com/nba/team/schedule/_/name/okc/season/2018/seasontype/2\n",
      "http://www.espn.com/nba/team/schedule/_/name/cle/season/2018/seasontype/2\n",
      "http://www.espn.com/nba/team/schedule/_/name/no/season/2018/seasontype/2\n",
      "http://www.espn.com/nba/team/schedule/_/name/lal/season/2018/seasontype/2\n",
      "http://www.espn.com/nba/team/schedule/_/name/atl/season/2018/seasontype/2\n",
      "http://www.espn.com/nba/team/schedule/_/name/det/season/2018/seasontype/2\n",
      "http://www.espn.com/nba/team/schedule/_/name/hou/season/2018/seasontype/2\n",
      "http://www.espn.com/nba/team/schedule/_/name/lac/season/2018/seasontype/2\n",
      "http://www.espn.com/nba/team/schedule/_/name/den/season/2018/seasontype/2\n",
      "http://www.espn.com/nba/team/schedule/_/name/ny/season/2018/seasontype/2\n",
      "http://www.espn.com/nba/team/schedule/_/name/min/season/2018/seasontype/2\n",
      "http://www.espn.com/nba/team/schedule/_/name/por/season/2018/seasontype/2\n",
      "http://www.espn.com/nba/team/schedule/_/name/mem/season/2018/seasontype/2\n",
      "http://www.espn.com/nba/team/schedule/_/name/tor/season/2018/seasontype/2\n",
      "http://www.espn.com/nba/team/schedule/_/name/wsh/season/2018/seasontype/2\n",
      "http://www.espn.com/nba/team/schedule/_/name/phi/season/2018/seasontype/2\n",
      "http://www.espn.com/nba/team/schedule/_/name/sa/season/2018/seasontype/2\n",
      "http://www.espn.com/nba/team/schedule/_/name/cha/season/2018/seasontype/2\n",
      "http://www.espn.com/nba/team/schedule/_/name/mia/season/2018/seasontype/2\n",
      "http://www.espn.com/nba/team/schedule/_/name/bkn/season/2018/seasontype/2\n",
      "http://www.espn.com/nba/team/schedule/_/name/dal/season/2018/seasontype/2\n",
      "http://www.espn.com/nba/team/schedule/_/name/ind/season/2018/seasontype/2\n",
      "http://www.espn.com/nba/team/schedule/_/name/sac/season/2018/seasontype/2\n",
      "http://www.espn.com/nba/team/schedule/_/name/bos/season/2018/seasontype/2\n",
      "http://www.espn.com/nba/team/schedule/_/name/mil/season/2018/seasontype/2\n",
      "http://www.espn.com/nba/team/schedule/_/name/phx/season/2018/seasontype/2\n"
     ]
    }
   ],
   "source": [
    "team_url = find_teams_url(\"http://www.espn.com/nba/teams\")\n",
    "years = [2018]\n",
    "test = read_teams(team_url, years)"
   ]
  },
  {
   "cell_type": "code",
   "execution_count": 33,
   "metadata": {},
   "outputs": [
    {
     "name": "stdout",
     "output_type": "stream",
     "text": [
      "dict_keys(['golden state', 'orlando', 'chicago', 'utah', 'oklahoma city', 'cleveland', 'new orleans', 'los angeles', 'atlanta', 'detroit', 'houston', 'la', 'denver', 'new york', 'minnesota', 'portland trail', 'memphis', 'toronto', 'washington', 'philadelphia', 'san antonio', 'charlotte', 'miami', 'brooklyn', 'dallas', 'indiana', 'sacramento', 'boston', 'milwaukee', 'phoenix'])\n"
     ]
    }
   ],
   "source": [
    "print(test.keys())\n",
    "# print(test['bos/boston-celtics'])\n",
    "# from datetime import datetime\n",
    "# datetime_object1 = datetime.strptime(test['bos/boston-celtics'][2018][2][0][2], \"%a, %b %d\")\n",
    "# datetime_object2 = datetime.strptime(test['bos/boston-celtics'][2018][2][0][4], \"%a, %b %d\")\n",
    "# (datetime_object2 - datetime_object1).days"
   ]
  },
  {
   "cell_type": "code",
   "execution_count": 34,
   "metadata": {},
   "outputs": [
    {
     "name": "stdout",
     "output_type": "stream",
     "text": [
      "http://www.espn.com/nba/team/schedule/_/name/gs/season/2013/seasontype/2\n",
      "http://www.espn.com/nba/team/schedule/_/name/gs/season/2014/seasontype/2\n",
      "http://www.espn.com/nba/team/schedule/_/name/gs/season/2015/seasontype/2\n",
      "http://www.espn.com/nba/team/schedule/_/name/gs/season/2016/seasontype/2\n",
      "http://www.espn.com/nba/team/schedule/_/name/gs/season/2017/seasontype/2\n",
      "http://www.espn.com/nba/team/schedule/_/name/orl/season/2013/seasontype/2\n",
      "http://www.espn.com/nba/team/schedule/_/name/orl/season/2014/seasontype/2\n",
      "http://www.espn.com/nba/team/schedule/_/name/orl/season/2015/seasontype/2\n",
      "http://www.espn.com/nba/team/schedule/_/name/orl/season/2016/seasontype/2\n",
      "http://www.espn.com/nba/team/schedule/_/name/orl/season/2017/seasontype/2\n",
      "http://www.espn.com/nba/team/schedule/_/name/chi/season/2013/seasontype/2\n",
      "http://www.espn.com/nba/team/schedule/_/name/chi/season/2014/seasontype/2\n",
      "http://www.espn.com/nba/team/schedule/_/name/chi/season/2015/seasontype/2\n",
      "http://www.espn.com/nba/team/schedule/_/name/chi/season/2016/seasontype/2\n",
      "http://www.espn.com/nba/team/schedule/_/name/chi/season/2017/seasontype/2\n",
      "http://www.espn.com/nba/team/schedule/_/name/utah/season/2013/seasontype/2\n",
      "http://www.espn.com/nba/team/schedule/_/name/utah/season/2014/seasontype/2\n",
      "http://www.espn.com/nba/team/schedule/_/name/utah/season/2015/seasontype/2\n",
      "http://www.espn.com/nba/team/schedule/_/name/utah/season/2016/seasontype/2\n",
      "http://www.espn.com/nba/team/schedule/_/name/utah/season/2017/seasontype/2\n",
      "http://www.espn.com/nba/team/schedule/_/name/okc/season/2013/seasontype/2\n",
      "http://www.espn.com/nba/team/schedule/_/name/okc/season/2014/seasontype/2\n",
      "http://www.espn.com/nba/team/schedule/_/name/okc/season/2015/seasontype/2\n",
      "http://www.espn.com/nba/team/schedule/_/name/okc/season/2016/seasontype/2\n",
      "http://www.espn.com/nba/team/schedule/_/name/okc/season/2017/seasontype/2\n",
      "http://www.espn.com/nba/team/schedule/_/name/cle/season/2013/seasontype/2\n",
      "http://www.espn.com/nba/team/schedule/_/name/cle/season/2014/seasontype/2\n",
      "http://www.espn.com/nba/team/schedule/_/name/cle/season/2015/seasontype/2\n",
      "http://www.espn.com/nba/team/schedule/_/name/cle/season/2016/seasontype/2\n",
      "http://www.espn.com/nba/team/schedule/_/name/cle/season/2017/seasontype/2\n",
      "http://www.espn.com/nba/team/schedule/_/name/no/season/2013/seasontype/2\n",
      "http://www.espn.com/nba/team/schedule/_/name/no/season/2014/seasontype/2\n",
      "http://www.espn.com/nba/team/schedule/_/name/no/season/2015/seasontype/2\n",
      "http://www.espn.com/nba/team/schedule/_/name/no/season/2016/seasontype/2\n",
      "http://www.espn.com/nba/team/schedule/_/name/no/season/2017/seasontype/2\n",
      "http://www.espn.com/nba/team/schedule/_/name/lal/season/2013/seasontype/2\n",
      "http://www.espn.com/nba/team/schedule/_/name/lal/season/2014/seasontype/2\n",
      "http://www.espn.com/nba/team/schedule/_/name/lal/season/2015/seasontype/2\n",
      "http://www.espn.com/nba/team/schedule/_/name/lal/season/2016/seasontype/2\n",
      "http://www.espn.com/nba/team/schedule/_/name/lal/season/2017/seasontype/2\n",
      "http://www.espn.com/nba/team/schedule/_/name/atl/season/2013/seasontype/2\n",
      "http://www.espn.com/nba/team/schedule/_/name/atl/season/2014/seasontype/2\n",
      "http://www.espn.com/nba/team/schedule/_/name/atl/season/2015/seasontype/2\n",
      "http://www.espn.com/nba/team/schedule/_/name/atl/season/2016/seasontype/2\n",
      "http://www.espn.com/nba/team/schedule/_/name/atl/season/2017/seasontype/2\n",
      "http://www.espn.com/nba/team/schedule/_/name/det/season/2013/seasontype/2\n",
      "http://www.espn.com/nba/team/schedule/_/name/det/season/2014/seasontype/2\n",
      "http://www.espn.com/nba/team/schedule/_/name/det/season/2015/seasontype/2\n",
      "http://www.espn.com/nba/team/schedule/_/name/det/season/2016/seasontype/2\n",
      "http://www.espn.com/nba/team/schedule/_/name/det/season/2017/seasontype/2\n",
      "http://www.espn.com/nba/team/schedule/_/name/hou/season/2013/seasontype/2\n",
      "http://www.espn.com/nba/team/schedule/_/name/hou/season/2014/seasontype/2\n",
      "http://www.espn.com/nba/team/schedule/_/name/hou/season/2015/seasontype/2\n",
      "http://www.espn.com/nba/team/schedule/_/name/hou/season/2016/seasontype/2\n",
      "http://www.espn.com/nba/team/schedule/_/name/hou/season/2017/seasontype/2\n",
      "http://www.espn.com/nba/team/schedule/_/name/lac/season/2013/seasontype/2\n",
      "http://www.espn.com/nba/team/schedule/_/name/lac/season/2014/seasontype/2\n",
      "http://www.espn.com/nba/team/schedule/_/name/lac/season/2015/seasontype/2\n",
      "http://www.espn.com/nba/team/schedule/_/name/lac/season/2016/seasontype/2\n",
      "http://www.espn.com/nba/team/schedule/_/name/lac/season/2017/seasontype/2\n",
      "http://www.espn.com/nba/team/schedule/_/name/den/season/2013/seasontype/2\n",
      "http://www.espn.com/nba/team/schedule/_/name/den/season/2014/seasontype/2\n",
      "http://www.espn.com/nba/team/schedule/_/name/den/season/2015/seasontype/2\n",
      "http://www.espn.com/nba/team/schedule/_/name/den/season/2016/seasontype/2\n",
      "http://www.espn.com/nba/team/schedule/_/name/den/season/2017/seasontype/2\n",
      "http://www.espn.com/nba/team/schedule/_/name/ny/season/2013/seasontype/2\n",
      "http://www.espn.com/nba/team/schedule/_/name/ny/season/2014/seasontype/2\n",
      "http://www.espn.com/nba/team/schedule/_/name/ny/season/2015/seasontype/2\n",
      "http://www.espn.com/nba/team/schedule/_/name/ny/season/2016/seasontype/2\n",
      "http://www.espn.com/nba/team/schedule/_/name/ny/season/2017/seasontype/2\n",
      "http://www.espn.com/nba/team/schedule/_/name/min/season/2013/seasontype/2\n",
      "http://www.espn.com/nba/team/schedule/_/name/min/season/2014/seasontype/2\n",
      "http://www.espn.com/nba/team/schedule/_/name/min/season/2015/seasontype/2\n",
      "http://www.espn.com/nba/team/schedule/_/name/min/season/2016/seasontype/2\n",
      "http://www.espn.com/nba/team/schedule/_/name/min/season/2017/seasontype/2\n",
      "http://www.espn.com/nba/team/schedule/_/name/por/season/2013/seasontype/2\n",
      "http://www.espn.com/nba/team/schedule/_/name/por/season/2014/seasontype/2\n",
      "http://www.espn.com/nba/team/schedule/_/name/por/season/2015/seasontype/2\n",
      "http://www.espn.com/nba/team/schedule/_/name/por/season/2016/seasontype/2\n",
      "http://www.espn.com/nba/team/schedule/_/name/por/season/2017/seasontype/2\n",
      "http://www.espn.com/nba/team/schedule/_/name/mem/season/2013/seasontype/2\n",
      "http://www.espn.com/nba/team/schedule/_/name/mem/season/2014/seasontype/2\n",
      "http://www.espn.com/nba/team/schedule/_/name/mem/season/2015/seasontype/2\n",
      "http://www.espn.com/nba/team/schedule/_/name/mem/season/2016/seasontype/2\n",
      "http://www.espn.com/nba/team/schedule/_/name/mem/season/2017/seasontype/2\n",
      "http://www.espn.com/nba/team/schedule/_/name/tor/season/2013/seasontype/2\n",
      "http://www.espn.com/nba/team/schedule/_/name/tor/season/2014/seasontype/2\n",
      "http://www.espn.com/nba/team/schedule/_/name/tor/season/2015/seasontype/2\n",
      "http://www.espn.com/nba/team/schedule/_/name/tor/season/2016/seasontype/2\n",
      "http://www.espn.com/nba/team/schedule/_/name/tor/season/2017/seasontype/2\n",
      "http://www.espn.com/nba/team/schedule/_/name/wsh/season/2013/seasontype/2\n",
      "http://www.espn.com/nba/team/schedule/_/name/wsh/season/2014/seasontype/2\n",
      "http://www.espn.com/nba/team/schedule/_/name/wsh/season/2015/seasontype/2\n",
      "http://www.espn.com/nba/team/schedule/_/name/wsh/season/2016/seasontype/2\n",
      "http://www.espn.com/nba/team/schedule/_/name/wsh/season/2017/seasontype/2\n",
      "http://www.espn.com/nba/team/schedule/_/name/phi/season/2013/seasontype/2\n",
      "http://www.espn.com/nba/team/schedule/_/name/phi/season/2014/seasontype/2\n",
      "http://www.espn.com/nba/team/schedule/_/name/phi/season/2015/seasontype/2\n",
      "http://www.espn.com/nba/team/schedule/_/name/phi/season/2016/seasontype/2\n",
      "http://www.espn.com/nba/team/schedule/_/name/phi/season/2017/seasontype/2\n",
      "http://www.espn.com/nba/team/schedule/_/name/sa/season/2013/seasontype/2\n",
      "http://www.espn.com/nba/team/schedule/_/name/sa/season/2014/seasontype/2\n",
      "http://www.espn.com/nba/team/schedule/_/name/sa/season/2015/seasontype/2\n",
      "http://www.espn.com/nba/team/schedule/_/name/sa/season/2016/seasontype/2\n",
      "http://www.espn.com/nba/team/schedule/_/name/sa/season/2017/seasontype/2\n",
      "http://www.espn.com/nba/team/schedule/_/name/cha/season/2013/seasontype/2\n",
      "http://www.espn.com/nba/team/schedule/_/name/cha/season/2014/seasontype/2\n",
      "http://www.espn.com/nba/team/schedule/_/name/cha/season/2015/seasontype/2\n",
      "http://www.espn.com/nba/team/schedule/_/name/cha/season/2016/seasontype/2\n",
      "http://www.espn.com/nba/team/schedule/_/name/cha/season/2017/seasontype/2\n",
      "http://www.espn.com/nba/team/schedule/_/name/mia/season/2013/seasontype/2\n"
     ]
    },
    {
     "name": "stdout",
     "output_type": "stream",
     "text": [
      "http://www.espn.com/nba/team/schedule/_/name/mia/season/2014/seasontype/2\n",
      "http://www.espn.com/nba/team/schedule/_/name/mia/season/2015/seasontype/2\n",
      "http://www.espn.com/nba/team/schedule/_/name/mia/season/2016/seasontype/2\n",
      "http://www.espn.com/nba/team/schedule/_/name/mia/season/2017/seasontype/2\n",
      "http://www.espn.com/nba/team/schedule/_/name/bkn/season/2013/seasontype/2\n",
      "http://www.espn.com/nba/team/schedule/_/name/bkn/season/2014/seasontype/2\n",
      "http://www.espn.com/nba/team/schedule/_/name/bkn/season/2015/seasontype/2\n",
      "http://www.espn.com/nba/team/schedule/_/name/bkn/season/2016/seasontype/2\n",
      "http://www.espn.com/nba/team/schedule/_/name/bkn/season/2017/seasontype/2\n",
      "http://www.espn.com/nba/team/schedule/_/name/dal/season/2013/seasontype/2\n",
      "http://www.espn.com/nba/team/schedule/_/name/dal/season/2014/seasontype/2\n",
      "http://www.espn.com/nba/team/schedule/_/name/dal/season/2015/seasontype/2\n",
      "http://www.espn.com/nba/team/schedule/_/name/dal/season/2016/seasontype/2\n",
      "http://www.espn.com/nba/team/schedule/_/name/dal/season/2017/seasontype/2\n",
      "http://www.espn.com/nba/team/schedule/_/name/ind/season/2013/seasontype/2\n",
      "http://www.espn.com/nba/team/schedule/_/name/ind/season/2014/seasontype/2\n",
      "http://www.espn.com/nba/team/schedule/_/name/ind/season/2015/seasontype/2\n",
      "http://www.espn.com/nba/team/schedule/_/name/ind/season/2016/seasontype/2\n",
      "http://www.espn.com/nba/team/schedule/_/name/ind/season/2017/seasontype/2\n",
      "http://www.espn.com/nba/team/schedule/_/name/sac/season/2013/seasontype/2\n",
      "http://www.espn.com/nba/team/schedule/_/name/sac/season/2014/seasontype/2\n",
      "http://www.espn.com/nba/team/schedule/_/name/sac/season/2015/seasontype/2\n",
      "http://www.espn.com/nba/team/schedule/_/name/sac/season/2016/seasontype/2\n",
      "http://www.espn.com/nba/team/schedule/_/name/sac/season/2017/seasontype/2\n",
      "http://www.espn.com/nba/team/schedule/_/name/bos/season/2013/seasontype/2\n",
      "http://www.espn.com/nba/team/schedule/_/name/bos/season/2014/seasontype/2\n",
      "http://www.espn.com/nba/team/schedule/_/name/bos/season/2015/seasontype/2\n",
      "http://www.espn.com/nba/team/schedule/_/name/bos/season/2016/seasontype/2\n",
      "http://www.espn.com/nba/team/schedule/_/name/bos/season/2017/seasontype/2\n",
      "http://www.espn.com/nba/team/schedule/_/name/mil/season/2013/seasontype/2\n",
      "http://www.espn.com/nba/team/schedule/_/name/mil/season/2014/seasontype/2\n",
      "http://www.espn.com/nba/team/schedule/_/name/mil/season/2015/seasontype/2\n",
      "http://www.espn.com/nba/team/schedule/_/name/mil/season/2016/seasontype/2\n",
      "http://www.espn.com/nba/team/schedule/_/name/mil/season/2017/seasontype/2\n",
      "http://www.espn.com/nba/team/schedule/_/name/phx/season/2013/seasontype/2\n",
      "http://www.espn.com/nba/team/schedule/_/name/phx/season/2014/seasontype/2\n",
      "http://www.espn.com/nba/team/schedule/_/name/phx/season/2015/seasontype/2\n",
      "http://www.espn.com/nba/team/schedule/_/name/phx/season/2016/seasontype/2\n",
      "http://www.espn.com/nba/team/schedule/_/name/phx/season/2017/seasontype/2\n"
     ]
    }
   ],
   "source": [
    "train = read_teams(team_url, [2013,2014,2015,2016,2017])"
   ]
  },
  {
   "cell_type": "code",
   "execution_count": 35,
   "metadata": {
    "scrolled": true
   },
   "outputs": [
    {
     "ename": "KeyError",
     "evalue": "'bos/boston-celtics'",
     "output_type": "error",
     "traceback": [
      "\u001b[0;31m---------------------------------------------------------------------------\u001b[0m",
      "\u001b[0;31mKeyError\u001b[0m                                  Traceback (most recent call last)",
      "\u001b[0;32m<ipython-input-35-79f2e096194e>\u001b[0m in \u001b[0;36m<module>\u001b[0;34m\u001b[0m\n\u001b[0;32m----> 1\u001b[0;31m \u001b[0mprint\u001b[0m\u001b[0;34m(\u001b[0m\u001b[0mtrain\u001b[0m\u001b[0;34m[\u001b[0m\u001b[0;34m'bos/boston-celtics'\u001b[0m\u001b[0;34m]\u001b[0m\u001b[0;34m)\u001b[0m\u001b[0;34m\u001b[0m\u001b[0m\n\u001b[0m",
      "\u001b[0;31mKeyError\u001b[0m: 'bos/boston-celtics'"
     ]
    }
   ],
   "source": []
  },
  {
   "cell_type": "code",
   "execution_count": 36,
   "metadata": {},
   "outputs": [],
   "source": [
    "from datetime import datetime\n",
    "def data_processing(test):\n",
    "    game_info = {}\n",
    "    for team in test:\n",
    "        for i in range(5,len(test[team][1])):\n",
    "            #opponent of the current game\n",
    "            if team not in game_info:\n",
    "                game_info[team] = []\n",
    "            #the results of former 5 games of the team\n",
    "            info = [test[team][1][i][2:].strip().lower()]\n",
    "            for j in range(1,6):\n",
    "                if test[team][2][5-j][0] == 'L':\n",
    "                    info.append('0')\n",
    "                else:\n",
    "                    info.append('1')\n",
    "            #Home field or away of the current game\n",
    "            if (test[team][1][i][1] == 'v'):\n",
    "                info.append('1')\n",
    "            else:\n",
    "                info.append('0')\n",
    "            #back to back\n",
    "            d1 = datetime.strptime(test[team][0][i], \"%a, %b %d, %Y\")\n",
    "            d2 = datetime.strptime(test[team][0][i-1], \"%a, %b %d, %Y\")\n",
    "            if (d1-d2).days==1:\n",
    "                info.append('1')\n",
    "            else:\n",
    "                info.append('0')\n",
    "            #the feature vector and result of the current game       \n",
    "            if (test[team][2][i][0] == 'L'):\n",
    "                game_info[team].append((info, '0', test[team][3][i]))\n",
    "            else:\n",
    "                game_info[team].append((info, '1', test[team][3][i]))\n",
    "                \n",
    "    return game_info"
   ]
  },
  {
   "cell_type": "code",
   "execution_count": null,
   "metadata": {},
   "outputs": [],
   "source": [
    "def total_to_dict(data):\n",
    "    total_dict = {}\n",
    "    for team in data:\n",
    "        total_dict[team] = {}\n",
    "        for year in data[team]:\n",
    "            lst = [data[team][year][1][0]]\n",
    "            for i in range(4, 14):\n",
    "                lst.append(str(data[team][year][i][0]))\n",
    "            for i in range(1, 15):\n",
    "                lst.append(str(data[team][year][i][1]))\n",
    "            total_dict[team][str(year-1) + '-' + str(year)] = lst\n",
    "    return total_dict\n",
    "\n",
    "teams_stat_test = read_teams_total(team_url, [2018])\n",
    "teams_stat_train = read_teams_total(team_url, [2013,2014,2015,2016,2017])\n",
    "\n",
    "teams_stat_test = total_to_dict(teams_stat_test)\n",
    "teams_stat_train = total_to_dict(teams_stat_train)"
   ]
  },
  {
   "cell_type": "code",
   "execution_count": null,
   "metadata": {},
   "outputs": [],
   "source": [
    "test_total"
   ]
  },
  {
   "cell_type": "code",
   "execution_count": 37,
   "metadata": {},
   "outputs": [],
   "source": [
    "import pickle \n",
    "\n",
    "all_games_train = data_processing(train)\n",
    "all_games_test = data_processing(test)\n",
    "\n",
    "# with open('all_games_train.pkl', 'wb') as fp:\n",
    "#     pickle.dump(all_games_train, fp)\n",
    "# with open('all_games_test.pkl', 'wb') as fp:\n",
    "#     pickle.dump(all_games_train, fp)"
   ]
  },
  {
   "cell_type": "code",
   "execution_count": null,
   "metadata": {},
   "outputs": [],
   "source": [
    "\n",
    "import pickle \n",
    "\n",
    "\n",
    "# with open('teams_stat_train.pkl', 'wb') as fp:\n",
    "#     pickle.dump(teams_stat_train, fp)\n",
    "# with open('teams_stat_test.pkl', 'wb') as fp:\n",
    "#     pickle.dump(teams_stat_test, fp)"
   ]
  },
  {
   "cell_type": "code",
   "execution_count": null,
   "metadata": {},
   "outputs": [],
   "source": []
  }
 ],
 "metadata": {
  "kernelspec": {
   "display_name": "Python 3",
   "language": "python",
   "name": "python3"
  },
  "language_info": {
   "codemirror_mode": {
    "name": "ipython",
    "version": 3
   },
   "file_extension": ".py",
   "mimetype": "text/x-python",
   "name": "python",
   "nbconvert_exporter": "python",
   "pygments_lexer": "ipython3",
   "version": "3.6.6"
  }
 },
 "nbformat": 4,
 "nbformat_minor": 2
}
