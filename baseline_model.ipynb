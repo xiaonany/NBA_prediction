{
 "cells": [
  {
   "cell_type": "code",
   "execution_count": 4,
   "metadata": {},
   "outputs": [],
   "source": [
    "import pickle \n",
    "import numpy as np "
   ]
  },
  {
   "cell_type": "code",
   "execution_count": null,
   "metadata": {},
   "outputs": [],
   "source": [
    "with open('all_games_dict_train.pkl', 'rb') as fp:\n",
    "     all_games= pickle.load(fp)\n",
    "        \n",
    "    \n",
    "    \n",
    "\n",
    "for key, value in all_games.items():\n",
    "    \n",
    "        "
   ]
  },
  {
   "cell_type": "code",
   "execution_count": 7,
   "metadata": {},
   "outputs": [
    {
     "data": {
      "text/plain": [
       "{'dal/dallas-mavericks': (['Phoenix', '1', '0', '0', '0', '0', '0', '0'], '0'),\n",
       " 'phi/philadelphia-76ers': (['Milwaukee', '0', '1', '0', '0', '0', '0', '1'],\n",
       "  '1'),\n",
       " 'mem/memphis-grizzlies': (['Oklahoma City',\n",
       "   '1',\n",
       "   '0',\n",
       "   '1',\n",
       "   '1',\n",
       "   '1',\n",
       "   '0',\n",
       "   '0'],\n",
       "  '0'),\n",
       " 'sa/san-antonio-spurs': (['New Orleans', '0', '1', '1', '1', '1', '0', '0'],\n",
       "  '0'),\n",
       " 'cle/cleveland-cavaliers': (['New York', '0', '1', '0', '1', '1', '0', '0'],\n",
       "  '0'),\n",
       " 'chi/chicago-bulls': (['Detroit', '0', '1', '0', '0', '0', '0', '0'], '0'),\n",
       " 'cha/charlotte-hornets': (['Indiana', '0', '1', '0', '1', '0', '0', '0'],\n",
       "  '1'),\n",
       " 'atl/atlanta-hawks': (['Philadelphia', '0', '0', '0', '0', '1', '0', '0'],\n",
       "  '0'),\n",
       " 'orl/orlando-magic': (['Washington', '1', '1', '1', '0', '1', '0', '0'], '1'),\n",
       " 'gs/golden-state-warriors': (['Utah', '1', '1', '0', '1', '0', '0', '0'],\n",
       "  '0'),\n",
       " 'sac/sacramento-kings': (['Houston', '0', '0', '0', '1', '0', '0', '0'], '1'),\n",
       " 'okc/oklahoma-city-thunder': (['Memphis', '0', '1', '0', '0', '1', '0', '0'],\n",
       "  '1'),\n",
       " 'phx/phoenix-suns': (['Dallas', '1', '1', '0', '0', '0', '0', '0'], '1'),\n",
       " 'por/portland-trail-blazers': (['Utah', '0', '1', '0', '1', '1', '0', '0'],\n",
       "  '1'),\n",
       " 'lal/los-angeles-lakers': (['LA', '0', '1', '0', '1', '0', '0', '1'], '1'),\n",
       " 'den/denver-nuggets': (['Minnesota', '1', '0', '0', '1', '0', '0', '0'], '0'),\n",
       " 'utah/utah-jazz': (['Portland', '0', '0', '1', '0', '1', '0', '1'], '0'),\n",
       " 'no/new-orleans-pelicans': (['San Antonio',\n",
       "   '1',\n",
       "   '0',\n",
       "   '1',\n",
       "   '0',\n",
       "   '0',\n",
       "   '0',\n",
       "   '0'],\n",
       "  '1'),\n",
       " 'mia/miami-heat': (['Toronto', '0', '0', '1', '1', '0', '0', '0'], '1'),\n",
       " 'tor/toronto-raptors': (['Miami', '1', '0', '0', '1', '1', '0', '0'], '0'),\n",
       " 'bkn/brooklyn-nets': (['Boston', '1', '0', '1', '1', '0', '0', '0'], '0'),\n",
       " 'wsh/washington-wizards': (['Orlando', '0', '0', '1', '1', '1', '0', '1'],\n",
       "  '0'),\n",
       " 'ny/new-york-knicks': (['Cleveland', '1', '1', '0', '0', '0', '0', '0'], '1'),\n",
       " 'bos/boston-celtics': (['Brooklyn', '1', '1', '1', '0', '0', '0', '1'], '1'),\n",
       " 'det/detroit-pistons': (['Chicago', '1', '0', '1', '0', '1', '0', '0'], '1'),\n",
       " 'min/minnesota-timberwolves': (['Denver', '0', '0', '1', '1', '0', '0', '0'],\n",
       "  '1'),\n",
       " 'ind/indiana-pacers': (['Charlotte', '0', '1', '0', '0', '1', '0', '0'], '0'),\n",
       " 'mil/milwaukee-bucks': (['Philadelphia', '0', '1', '1', '0', '1', '0', '0'],\n",
       "  '0'),\n",
       " 'lac/la-clippers': (['Los Angeles', '0', '1', '1', '1', '1', '0', '0'], '0'),\n",
       " 'hou/houston-rockets': (['Sacramento', '1', '0', '1', '1', '1', '0', '1'],\n",
       "  '0')}"
      ]
     },
     "execution_count": 7,
     "metadata": {},
     "output_type": "execute_result"
    }
   ],
   "source": [
    "all_games"
   ]
  },
  {
   "cell_type": "code",
   "execution_count": null,
   "metadata": {},
   "outputs": [],
   "source": []
  }
 ],
 "metadata": {
  "kernelspec": {
   "display_name": "Python 3",
   "language": "python",
   "name": "python3"
  },
  "language_info": {
   "codemirror_mode": {
    "name": "ipython",
    "version": 3
   },
   "file_extension": ".py",
   "mimetype": "text/x-python",
   "name": "python",
   "nbconvert_exporter": "python",
   "pygments_lexer": "ipython3",
   "version": "3.6.6"
  }
 },
 "nbformat": 4,
 "nbformat_minor": 2
}
