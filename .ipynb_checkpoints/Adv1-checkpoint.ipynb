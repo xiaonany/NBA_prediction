{
 "cells": [
  {
   "cell_type": "code",
   "execution_count": 3,
   "metadata": {},
   "outputs": [],
   "source": [
    "import pickle\n",
    "with open('all_games_train.pkl', 'rb') as fp:\n",
    "    all_games_train =  pickle.load(fp)\n",
    "    \n",
    "with open('all_games_test.pkl', 'rb') as fp:\n",
    "    all_games_test =  pickle.load(fp)\n",
    "    \n",
    "with open('train_total.pkl', 'rb') as fp:\n",
    "    train_total =  pickle.load(fp)\n",
    "    \n",
    "with open('test_total.pkl', 'rb') as fp:\n",
    "    test_total =  pickle.load(fp)"
   ]
  },
  {
   "cell_type": "code",
   "execution_count": 16,
   "metadata": {},
   "outputs": [],
   "source": [
    "import numpy as np\n",
    "def advanced_representation(all_games, total):\n",
    "    X = []\n",
    "    y = []\n",
    "    for team_name in all_games_train:\n",
    "        for game in all_games_train[team_name]:\n",
    "            opp_name = game[0][0]\n",
    "            if opp_name == 'portland':\n",
    "                opp_name = 'portland trail'\n",
    "            if opp_name[-1] == '*':\n",
    "                opp_name = opp_name[:-1].strip()\n",
    "            year = game[2]\n",
    "            label = int(game[1])\n",
    "            past_games = game[0][1:-1]\n",
    "            past_games = np.asarray(past_games)\n",
    "            past_games = list(map(eval, past_games))\n",
    "            location = list(game[0][-1])\n",
    "            location = np.asarray(location)\n",
    "            location = list(map(eval, location))\n",
    "            active_index = [1,2,3,4,5,6,7,8,9,10,12,13,15,16,18,19,20,21,23]\n",
    "            data1 = np.asarray(train_total[team_name][year])\n",
    "            data1 = data1[active_index]\n",
    "            data1 = list(map(eval, data1))\n",
    "            data2 = np.asarray(train_total[opp_name][year])\n",
    "            data2 = data2[active_index]\n",
    "            data2 = list(map(eval, data2))\n",
    "            data1 = np.asarray(data1)\n",
    "            data2 = np.asarray(data2)\n",
    "            diff = list((data1>data2)*1)\n",
    "            feature = diff + past_games + location\n",
    "            X.append(feature)\n",
    "            y.append(label)\n",
    "    return (np.array(X), np.array(y))"
   ]
  },
  {
   "cell_type": "code",
   "execution_count": 17,
   "metadata": {},
   "outputs": [],
   "source": [
    "adv_train, adv_train_label = advanced_representation(all_games_train, train_total)\n",
    "adv_test, adv_test_label = advanced_representation(all_games_test, test_total)"
   ]
  },
  {
   "cell_type": "code",
   "execution_count": 24,
   "metadata": {},
   "outputs": [],
   "source": [
    "from sklearn.svm import LinearSVC\n",
    "from sklearn.metrics import accuracy_score\n",
    "def cal_accuracy(adv_train, adv_train_label, adv_test, adv_test_label):\n",
    "    svm = LinearSVC(loss='hinge')\n",
    "    svm.fit(adv_train, adv_train_label)\n",
    "    y_pred = svm.predict(adv_test)\n",
    "    return accuracy_score(adv_test_label, y_pred)"
   ]
  },
  {
   "cell_type": "code",
   "execution_count": 25,
   "metadata": {},
   "outputs": [
    {
     "data": {
      "text/plain": [
       "0.6398291160039434"
      ]
     },
     "execution_count": 25,
     "metadata": {},
     "output_type": "execute_result"
    }
   ],
   "source": [
    "cal_accuracy(adv_train, adv_train_label, adv_test, adv_test_label)"
   ]
  },
  {
   "cell_type": "code",
   "execution_count": null,
   "metadata": {},
   "outputs": [],
   "source": []
  }
 ],
 "metadata": {
  "kernelspec": {
   "display_name": "Python 3",
   "language": "python",
   "name": "python3"
  },
  "language_info": {
   "codemirror_mode": {
    "name": "ipython",
    "version": 3
   },
   "file_extension": ".py",
   "mimetype": "text/x-python",
   "name": "python",
   "nbconvert_exporter": "python",
   "pygments_lexer": "ipython3",
   "version": "3.6.5"
  }
 },
 "nbformat": 4,
 "nbformat_minor": 2
}
