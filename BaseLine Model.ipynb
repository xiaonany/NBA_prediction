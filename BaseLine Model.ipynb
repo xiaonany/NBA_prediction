{
 "cells": [
  {
   "cell_type": "code",
   "execution_count": 9,
   "metadata": {},
   "outputs": [],
   "source": [
    "import pickle\n",
    "with open('all_games_train.pkl', 'rb') as fp:\n",
    "    all_games_train =  pickle.load(fp)\n",
    "    \n",
    "with open('all_games_test.pkl', 'rb') as fp:\n",
    "    all_games_test =  pickle.load(fp)"
   ]
  },
  {
   "cell_type": "code",
   "execution_count": 98,
   "metadata": {},
   "outputs": [],
   "source": [
    "import numpy as np\n",
    "def data_to_vector(data, team_names):\n",
    "    features = []\n",
    "    labels = []\n",
    "    for team in data:\n",
    "        for game in data[team]:\n",
    "            #extract features\n",
    "            feature = [0] * 60\n",
    "            #processing specific case for portland\n",
    "            opp = game[0][0]\n",
    "            if opp == 'portland':\n",
    "                opp = 'portland trail'\n",
    "            if opp[-1] == '*':\n",
    "                opp = opp[:-1].strip()\n",
    "            #computing feature vector\n",
    "            if data[team][0][-1] == '1':\n",
    "                feature[team_names.index(team)] = 1\n",
    "                feature[30 + team_names.index(opp)] = 1\n",
    "            else:\n",
    "                feature[team_names.index(opp)] = 1\n",
    "                feature[30 + team_names.index(team)] = 1\n",
    "            features.append(feature)\n",
    "            #extract labels\n",
    "            labels.append(game[1])\n",
    "    return (np.array(features), np.array(labels))"
   ]
  },
  {
   "cell_type": "code",
   "execution_count": 113,
   "metadata": {},
   "outputs": [],
   "source": [
    "team_names = list(all_games_train.keys())\n",
    "train_features, train_labels = data_to_vector(all_games_train, team_names)\n",
    "test_features, test_labels = data_to_vector(all_games_test, team_names)"
   ]
  },
  {
   "cell_type": "code",
   "execution_count": 114,
   "metadata": {},
   "outputs": [],
   "source": [
    "from sklearn.svm import LinearSVC\n",
    "from sklearn.metrics import accuracy_score\n",
    "def cal_accuracy(train_features, train_labels, test_features, test_labels):\n",
    "    svm = LinearSVC(loss='hinge')\n",
    "    svm.fit(train_features, train_labels)\n",
    "    y_pred = svm.predict(test_features)\n",
    "    return accuracy_score(test_labels, y_pred)"
   ]
  },
  {
   "cell_type": "code",
   "execution_count": 119,
   "metadata": {},
   "outputs": [
    {
     "data": {
      "text/plain": [
       "0.612964180085442"
      ]
     },
     "execution_count": 119,
     "metadata": {},
     "output_type": "execute_result"
    }
   ],
   "source": [
    "cal_accuracy(train_features, train_labels, test_features, test_labels)"
   ]
  },
  {
   "cell_type": "code",
   "execution_count": null,
   "metadata": {},
   "outputs": [],
   "source": []
  }
 ],
 "metadata": {
  "kernelspec": {
   "display_name": "Python 3",
   "language": "python",
   "name": "python3"
  },
  "language_info": {
   "codemirror_mode": {
    "name": "ipython",
    "version": 3
   },
   "file_extension": ".py",
   "mimetype": "text/x-python",
   "name": "python",
   "nbconvert_exporter": "python",
   "pygments_lexer": "ipython3",
   "version": "3.6.5"
  }
 },
 "nbformat": 4,
 "nbformat_minor": 2
}
